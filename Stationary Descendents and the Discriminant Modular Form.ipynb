{
 "cells": [
  {
   "cell_type": "markdown",
   "id": "04b61ded",
   "metadata": {},
   "source": [
    "# Stationary Descendents and the Discriminant Modular Form\n",
    "\n",
    "This Jupyter notebook provides all of the classes and functions used for the calculations in the paper 'Stationary Descendents and the Discriminant Modular Form'.\n",
    "\n",
    "At the heart of this notebook are two classes:\n",
    "\n",
    "1. Stationary_Descendent()\n",
    "2. Descendent_Matroid()\n",
    "\n",
    "The Stationary_Descendent class allows one to compute the **disconnected stationary descendent Gromov-Witten invariants**,\n",
    "\n",
    "\\begin{equation*}\n",
    "\\left<\\tau_{k_1}\\ldots\\tau_{k_n}\\right>^{\\bullet E}_d\n",
    "\\end{equation*}\n",
    "\n",
    "along with (truncations of) the **stationary descendents of weight $k = \\sum(k_i + 2)$**\n",
    "\n",
    "\\begin{equation*}\n",
    "\\left<\\tau_{k_1}\\ldots\\tau_{k_n}\\right> := \\prod_{n \\geq 1}(1 - q^n)\\sum_{d \\geq 0}\\left<\\tau_{k_1}\\ldots\\tau_{k_n}\\right>^{\\bullet E}_d q^d\n",
    "\\end{equation*}\n",
    "\n",
    "The Descendent_Matroid class allows one to make calculations with the **descendent matroid of weight $k$** i.e. the matroid whose ground set is the set of stationary descendents of weight $k$, and whose bases are collections of stationary descendents that form a basis of the vector space of **quasimodular forms of weight $k$**."
   ]
  },
  {
   "cell_type": "code",
   "execution_count": 1,
   "id": "4c04922f",
   "metadata": {},
   "outputs": [],
   "source": [
    "from itertools import *\n",
    "R.<q> = QQ[]"
   ]
  },
  {
   "cell_type": "markdown",
   "id": "72fdd391",
   "metadata": {},
   "source": [
    "The Gromov-Witten invariants $\\left<\\tau_{k_1}\\ldots\\tau_{k_n}\\right>^{\\bullet E}_d$ have the following closed formula,\n",
    "\n",
    "\\begin{equation}\n",
    "\\left<\\tau_{k_1}\\tau_{k_2}\\ldots\\tau_{k_n}\\right>^{\\bullet E}_d = \\left(\\prod_{i = 1}^n\\frac{1}{(k_i + 1)!}\\right)\\sum_{\\lambda, \\mu \\ \\vdash \\ d}\\frac{1}{z_\\mu}\\left(\\chi^\\lambda_\\mu\\right)^2\\prod_{i = 1}^np_{k_i + 1}(\\lambda)\n",
    "\\end{equation}\n",
    "\n",
    "The first goal is to write a function that computes this Gromov-Witten invariant. This function will require\n",
    "\n",
    "1. The centralizer order $z_\\mu$\n",
    "2. The irreducible character values $\\chi^\\lambda_\\mu$\n",
    "3. The symmetric power sum values $p_k(\\lambda)$"
   ]
  },
  {
   "cell_type": "markdown",
   "id": "b769810f",
   "metadata": {},
   "source": [
    "Let $\\mu = (\\mu_1, \\ldots, \\mu_k) \\vdash d$, and let $m_i$ be the **multiplicity of $i$** in $\\mu$ i.e. the number of times the integer $i$ shows up in $\\mu$. The centralizer order $z_\\mu$ is computed by\n",
    "\n",
    "\\begin{equation*}\n",
    "z_\\mu = \\left(\\prod_{i = 1}^{|\\mu|}m_i!\\right)\\left(\\prod_{i = 1}^k\\mu_i\\right)\n",
    "\\end{equation*}"
   ]
  },
  {
   "cell_type": "markdown",
   "id": "a81dbf5b",
   "metadata": {},
   "source": [
    "We'll write a function called centralizer(), that computes $z_\\mu$."
   ]
  },
  {
   "cell_type": "code",
   "execution_count": 2,
   "id": "b1f45e82",
   "metadata": {},
   "outputs": [],
   "source": [
    "def centralizer(mu):\n",
    "    ### Takes a partition $\\mu$ of $d$ and returns  ###\n",
    "    ### the order of the centralizer corresponding  ###\n",
    "    ### to $\\mu$.\n",
    "    \n",
    "    if mu == []: # Returns 1 if $\\mu$ is the empty partition\n",
    "        return 1\n",
    "    \n",
    "    m = max(mu) # Don't need to check for multiplicities past the max entry of \\mu \n",
    "    \n",
    "    multiplicity_counter = [] # Instantiate the list of multiplicities\n",
    "    \n",
    "    for i in range(1, m + 1): # Creates the list [m_1, m_2, ...]\n",
    "        multiplicity_of_i = 0\n",
    "        for j in mu:\n",
    "            if j == i:\n",
    "                multiplicity_of_i += 1\n",
    "        multiplicity_counter.append(multiplicity_of_i)\n",
    "        \n",
    "    first_factor = 1\n",
    "    \n",
    "    for i in multiplicity_counter: # Creates the product of factorials of multiplicities\n",
    "        first_factor *= factorial(i)\n",
    "    \n",
    "    second_factor = 1\n",
    "    \n",
    "    for i in mu: # Creates the product of parts of \\mu \n",
    "        second_factor *= i\n",
    "        \n",
    "    return first_factor*second_factor"
   ]
  },
  {
   "cell_type": "markdown",
   "id": "2b0be5e3",
   "metadata": {},
   "source": [
    "Next, we need a function to compute the irreducible character values $\\chi^\\lambda_\\mu$. Lizzie Hernandez (https://github.com/lizziehv) has written a fast implentation of a recursive version of the Murnaghan-Nakayama rule, which we provide below. She uses the dynamical programming technique of 'memoization', which speeds up the recursive procedure tremendously."
   ]
  },
  {
   "cell_type": "code",
   "execution_count": 3,
   "id": "617770a9",
   "metadata": {},
   "outputs": [],
   "source": [
    "def reduce(shape, s):\n",
    "    th_list = [] # list of (𝜆∖𝑟, ℎ(𝑟)) pairs\n",
    "    \n",
    "    border_size = [] # list containing number of border cells in every row\n",
    "    for r in range(len(shape)):\n",
    "        border_size.append(shape[r] if r == len(shape) - 1\n",
    "                           else shape[r] - shape[r + 1] + 1)\n",
    "    \n",
    "    for r_start_idx in range(len(shape)):\n",
    "        new_shape = shape.copy()\n",
    "        \n",
    "        removed = 0 # number of removed border cells\n",
    "        r_idx = r_start_idx # index of row from which to remove cells\n",
    "        while removed < s and r_idx < len(shape):\n",
    "            rrem = min(border_size[r_idx], s - removed) # number of cells to remove from row at rem_idx\n",
    "            new_shape[r_idx] -= rrem # remove cells from shape\n",
    "            \n",
    "            removed += rrem\n",
    "            r_idx += 1\n",
    "        \n",
    "        # check that shape is valid and that exactly s cells have been removed\n",
    "        if removed != s or (r_idx < len(shape) and new_shape[r_idx - 1] < new_shape[r_idx]):\n",
    "            continue\n",
    "        else:\n",
    "            # remove 0s from new shape\n",
    "            new_shape = list(filter(lambda x: x != 0, new_shape))\n",
    "            th_list.append((new_shape, r_idx - r_start_idx - 1))\n",
    "    \n",
    "    return th_list\n",
    "\n",
    "memo = {}\n",
    "\n",
    "def character(lda, mu, idx=0, print_flag=False):\n",
    "    key = (tuple(lda), tuple(mu)) # to index into memo\n",
    "    \n",
    "    if key in memo: # return from memo if already computed\n",
    "        if print_flag:\n",
    "            print(\"\\t\\t\"*(idx + 1) + \"returns \", memo[key], \"from memo\")\n",
    "        return memo[key]\n",
    "    \n",
    "    if idx == 0 and print_flag:\n",
    "        print_tableau(lda)\n",
    "    if len(lda) == 0 and idx == len(mu):\n",
    "        if print_flag:\n",
    "            print(\"\\t\\t\"*(idx + 1) + \"⊥\")\n",
    "            print(\"\\t\\t\"*(idx + 1) + \"returns 1\")\n",
    "        return 1\n",
    "    \n",
    "    th_list = reduce(lda, mu[idx])\n",
    "    char = 0\n",
    "    \n",
    "    for t, h in th_list:\n",
    "        if print_flag:\n",
    "            print_red_tableau(lda, t, tab=\"\\t\\t\"*(idx + 1))\n",
    "        \n",
    "        ind = -1 if h % 2 == 1 else 1\n",
    "        char_t = character(t, mu, idx + 1, print_flag)\n",
    "        char += ind * char_t\n",
    "    \n",
    "        if print_flag:\n",
    "            print(\"\\t\\t\"*(idx + 1) + \"returns \", char_t)\n",
    "    \n",
    "    memo[key] = char\n",
    "    return char"
   ]
  },
  {
   "cell_type": "markdown",
   "id": "2b5e8cea",
   "metadata": {},
   "source": [
    "Finally, we need a way to compute\n",
    "\n",
    "\\begin{equation*}\n",
    "p_k(\\lambda) := \\sum_{i = 1}^n \\left[ \\left(\\lambda_i - i + \\frac{1}{2}\\right)^k - \\left(-i + \\frac{1}{2}\\right)^k \\right] + (1 - 2^{-k})(-1)^k\\frac{B_{k + 1}}{k + 1}\n",
    "\\end{equation*}\n",
    "\n",
    "We'll write two functions, one that returns $p_k(\\lambda)$, and another that returns the product $\\prod_{i = 1}^np_{k_i + 1}(\\lambda)$"
   ]
  },
  {
   "cell_type": "code",
   "execution_count": 4,
   "id": "c798c40a",
   "metadata": {},
   "outputs": [],
   "source": [
    "def shifted_symmetric(lmd, k):\n",
    "    ### Takes a partition $\\lmd$ of $d$, and an integer $k$, ### \n",
    "    ### and returns p_k(\\lambda)                             ###\n",
    "    \n",
    "    if k <= 0:\n",
    "        return 0\n",
    "    else:\n",
    "        bernoulli_term = (1 - 2^(-k))*((-1)^k)*(1/(k + 1))*bernoulli(k + 1)\n",
    "        s = 0\n",
    "        for i in range(1, len(lmd) + 1):\n",
    "            s += (lmd[i - 1] - i + (1/2))^(k) - (-i + (1/2))^(k)\n",
    "        return s + bernoulli_term\n",
    "    \n",
    "\n",
    "def product_shifted_symmetric(k, lmd):\n",
    "    ### Takes a partition $\\lmd$ of $d$, and a list [k_1, \\ldots, k_n] ###\n",
    "    ### of integers, and returns \\prod_{i = 1}^n p_{k_i + 1}(\\lmd)     ###\n",
    "    \n",
    "    p = 1\n",
    "    \n",
    "    for i in k:\n",
    "        p *= shifted_symmetric(lmd, i + 1)\n",
    "        \n",
    "    return p"
   ]
  },
  {
   "cell_type": "markdown",
   "id": "4632cee7",
   "metadata": {},
   "source": [
    "We now have all of the functions to compute \n",
    "\n",
    "\\begin{equation*}\n",
    "\\left<\\tau_{k_1}\\ldots\\tau_{k_n}\\right>^{\\bullet E}_d = \\left( \\frac{1}{\\prod_{i = 1}^n(k_i + 1)!} \\right) \\sum_{\\lambda, \\mu \\vdash d}\\frac{1}{z_\\mu}\\left(\\chi^{\\lambda}_{\\mu}\\right)^2\\prod_{i = 1}^np_{k_i + 1}(\\lambda)\n",
    "\\end{equation*}"
   ]
  },
  {
   "cell_type": "code",
   "execution_count": 5,
   "id": "a46a10ff",
   "metadata": {},
   "outputs": [],
   "source": [
    "def descendent(k, d):\n",
    "    ### Takes a list $[k_1, \\ldots, k_n]$ and a degree $d$, and returns          ###  \n",
    "    ### the Gromov-Witten invariant <\\tau_{k_1}\\ldots\\tau_{k_n}> ^{\\cdot E}_{d}  ###\n",
    "    \n",
    "    summation = 0\n",
    "    \n",
    "    outside_factor = 1\n",
    "    \n",
    "    for i in k:\n",
    "        outside_factor *= (1/factorial(i + 1)) #Create \\prod_{i = 1}^n\\frac{1}{(k_i + 1)!}\n",
    "    \n",
    "    for i in product(Partitions(d), Partitions(d)): #Sum over through \\lambda, \\mu \\vdash d\n",
    "        lmd = list(i[0])\n",
    "        mu = list(i[1])\n",
    "        summation += (1/centralizer(mu))*((character(lmd, mu))^2)*product_shifted_symmetric(k, lmd)\n",
    "        \n",
    "    return outside_factor*summation"
   ]
  },
  {
   "cell_type": "markdown",
   "id": "2cce8c80",
   "metadata": {},
   "source": [
    "## The Stationary_Descendent() Class"
   ]
  },
  {
   "cell_type": "markdown",
   "id": "0cb76f57",
   "metadata": {},
   "source": [
    "The goal is to make a class called Stationary_Descendent(). When the user instantiates this class, they will have to provide a list $[k_1, \\ldots k_n]$ corresponding to the descendent insertions. The key methods of this class will be\n",
    "\n",
    "1. Compute $\\left<\\tau_{k_1}\\ldots\\tau_{k_n}\\right>^{\\bullet E}_d$ for any $d \\geq 0$\n",
    "2. Compute $\\left<\\tau_{k_1}\\ldots\\tau_{k_n}\\right> = \\prod(1 - q^n)\\sum \\left<\\tau_{k_1}\\ldots\\tau_{k_n}\\right>^{\\bullet E}_d q^d$ up to any order\n",
    "3. Find $\\left<\\tau_{k_1}\\ldots\\tau_{k_n}\\right>$ in terms of the Eisenstein basis.\n",
    "\n",
    "\n",
    "\n",
    "First, we'll make a function called eisenstein(). It will take a weight $k$, and allow the user to compute \n",
    "\n",
    "\\begin{equation*}\n",
    "E_k := -\\frac{B_k}{2k} + \\sum_{n \\geq 1} \\sigma_{k - 1}(n)q^n\n",
    "\\end{equation*}\n",
    "\n",
    "up to a prescribed order $n$. Then we'll make a class called Eisenstein_Basis(), that takes a weight $k$, and allows one to work with the Eisenstein basis for the vector space of quasimodular forms of weight $k$."
   ]
  },
  {
   "cell_type": "code",
   "execution_count": 6,
   "id": "1662337b",
   "metadata": {},
   "outputs": [],
   "source": [
    "def eisenstein(weight, order):\n",
    "    ### Returns the Eisenstein series of weight $k$ up to order $n$ ###\n",
    "    \n",
    "    if order == 0:\n",
    "        return -bernoulli(weight)/(2*(weight))\n",
    "    else:\n",
    "        s = -bernoulli(weight)/(2*weight)\n",
    "        for n in range(1, order + 1):\n",
    "            s += sigma(n, weight - 1)*q^n\n",
    "        return s\n",
    "\n",
    "def truncate(f, n):\n",
    "    ### Auxiliary helper function, takes a polynomial f(q) and truncates to order n ###\n",
    "    s = 0\n",
    "    for i in range(n + 1):\n",
    "        s += f[i]*q^i\n",
    "    return s\n",
    "\n",
    "\n",
    "class Eisenstein_Basis:\n",
    "    ### Eisenstein basis class for quasimodular forms of weight $k$ ###\n",
    "    \n",
    "    def __init__(self, weight=2):\n",
    "        self.weight = weight\n",
    "        self.dimension = len(Partitions((self.weight/2).floor(), max_part=3)) #Keeps track of dimension of QM_k\n",
    "\n",
    "    def __repr__(self):\n",
    "        return f\"The Eisenstein basis of quasimodular forms of weight {self.weight}\"\n",
    "    \n",
    "    \n",
    "    def display(self):\n",
    "        #Returns the dictionary {(i_1, i_2, ...):E_{i_1}E_{i_2}...}#\n",
    "        basis = {}\n",
    "        for i in Partitions((self.weight/2).floor(), max_part=3):\n",
    "            basis_vector = 1\n",
    "            for j in i:\n",
    "                basis_vector *= eisenstein(2*j, self.dimension - 1)\n",
    "            basis[tuple(2*k for k in i)] = truncate(basis_vector, self.dimension - 1)\n",
    "        return basis\n",
    "    \n",
    "    \n",
    "    def to_matrix(self):\n",
    "        # Returns the square matrix a_{ij} = ith coefficient of the jth basis vector #\n",
    "        m = []\n",
    "        for basis_vector in self.display():\n",
    "            m.append([i for i in self.display()[basis_vector]])\n",
    "        return Matrix(m).transpose()"
   ]
  },
  {
   "cell_type": "code",
   "execution_count": 7,
   "id": "92fa5820",
   "metadata": {},
   "outputs": [],
   "source": [
    "class Stationary_Descendent:\n",
    "    ### The stationary descendent class, allows one to access individual intersection numbers ###\n",
    "    ### and their generating polynomials ###\n",
    "    \n",
    "    def __init__(self, insertions=[0]):\n",
    "        self.insertions = insertions\n",
    "        self.weight = sum(self.insertions) + 2*len(self.insertions)\n",
    "        \n",
    "    def __repr__(self):\n",
    "        return f\"Stationary descendent class with insertions {self.insertions}, and weight {self.weight}\" \n",
    "    \n",
    "    def evaluate(self, d = 0):\n",
    "        ### Returns the individual intersection number $<\\tau_{k_1}\\ldots\\tau_{k_n}>^{\\bullet E}_d$ ###\n",
    "        return descendent(self.insertions, d)\n",
    "        \n",
    "    def expand(self, order = 0):\n",
    "        ### Returns the generating function $<\\tau_{k_1}\\ldots\\tau_{k_n}>$ up to the prescribed order ###\n",
    "        \n",
    "        if order == 0:\n",
    "            return descendent(self.insertions, 0)\n",
    "        \n",
    "        euler = 1\n",
    "        descendent_summation = 0\n",
    "        \n",
    "        for i in range(1, order + 1):\n",
    "            euler *= (1 - q^i)\n",
    "        \n",
    "        euler = truncate(euler, order)\n",
    "    \n",
    "        for d in range(order + 1):\n",
    "            descendent_summation += descendent(self.insertions, d)*q^d\n",
    "            \n",
    "        return truncate(euler*descendent_summation, order)\n",
    "    \n",
    "    def to_eisenstein_basis(self):\n",
    "        ### Returns the stationary descendent in terms of the eisenstein basis ###\n",
    "        \n",
    "        target_vector = vector([i for i in self.expand(Eisenstein_Basis(self.weight).dimension - 1)]) #The descendent is uniquely determined by the first $\\text{QM}_k$ coefficien\n",
    "        \n",
    "        matrix = Eisenstein_Basis(self.weight).to_matrix()\n",
    "        \n",
    "        solution_vector = matrix.solve_right(target_vector)\n",
    "        \n",
    "        solution_dict = {}\n",
    "        \n",
    "        counter = 0\n",
    "        \n",
    "        for i in Eisenstein_Basis(self.weight).display():\n",
    "            solution_dict[i] = solution_vector[counter]\n",
    "            counter += 1\n",
    "        \n",
    "        return solution_dict"
   ]
  },
  {
   "cell_type": "markdown",
   "id": "a6417edf",
   "metadata": {},
   "source": [
    "### Example. \n",
    "\n",
    "Suppose we want to work with the stationary descendent $\\left<\\tau_2^2\\right>$. We can use the .evaluate() method to compute individual Gromov-Witten invariants $\\left<\\tau_2^2\\right>^{\\bullet E}_d$. For example, if we wanted to compute $\\left<\\tau_2^2\\right>^{\\bullet E}_3$, we can do "
   ]
  },
  {
   "cell_type": "code",
   "execution_count": 8,
   "id": "43bddd91",
   "metadata": {},
   "outputs": [
    {
     "data": {
      "text/plain": [
       "166577809/11059200"
      ]
     },
     "execution_count": 8,
     "metadata": {},
     "output_type": "execute_result"
    }
   ],
   "source": [
    "desc = Stationary_Descendent([2, 2])\n",
    "desc.evaluate(d = 3)"
   ]
  },
  {
   "cell_type": "markdown",
   "id": "ab6bc91b",
   "metadata": {},
   "source": [
    "Which tells us that $\\left<\\tau_2^2\\right>^{\\bullet E}_d = \\frac{166577809}{11059200}$. If we want to expand $\\left<\\tau_2^2\\right>$ up to order, say, 4, we could do"
   ]
  },
  {
   "cell_type": "code",
   "execution_count": 9,
   "id": "8b8ebb46",
   "metadata": {},
   "outputs": [
    {
     "data": {
      "text/plain": [
       "7495801/69120*q^4 + 248437/17280*q^3 + 15703/23040*q^2 + 127/69120*q + 49/33177600"
      ]
     },
     "execution_count": 9,
     "metadata": {},
     "output_type": "execute_result"
    }
   ],
   "source": [
    "desc.expand(order = 4)"
   ]
  },
  {
   "cell_type": "markdown",
   "id": "171b4854",
   "metadata": {},
   "source": [
    "Which tells us that\n",
    "\n",
    "\\begin{equation*}\n",
    "\\left<\\tau_2^2\\right> := (q)_\\infty\\sum_{d \\geq 0}\\left<\\tau_2^2\\right>^{\\bullet E}_d =  \\frac{49}{33177600} + \\frac{127}{69120}q + \\frac{15703}{23040}q^2 + \\frac{248437}{17280}q^3 + \\frac{7495801}{69120}q^4 + O(q^5)\n",
    "\\end{equation*}"
   ]
  },
  {
   "cell_type": "markdown",
   "id": "efbf086a",
   "metadata": {},
   "source": [
    "Next, we'll write a class that will help us express quasimodular forms in tersm of the **descendent basis of weight $k$**, that is, in the basis\n",
    "\n",
    "\\begin{equation*}\n",
    "\\left\\{ \\left<\\tau_{wt.=2}\\right>^a\\left<\\tau_{wt.=4}\\right>^b\\left<\\tau_{wt.=6}\\right>^c \\right\\}_{2a + 4b + 6c = k}\n",
    "\\end{equation*}\n",
    "\n",
    "There are only 8 such bases for any given weight $k$, corresponding to one of the following presentations of $\\text{QM}$:\n",
    "\n",
    "1. $\\mathbb{Q}\\left[  \\left<\\tau_0\\right>, \\left<\\tau_0^2\\right>, \\left<\\tau_0^3\\right> \\right]$\n",
    "2. $\\mathbb{Q}\\left[  \\left<\\tau_0\\right>, \\left<\\tau_0^2\\right>, \\left<\\tau_1^2\\right> \\right]$\n",
    "3. $\\mathbb{Q}\\left[  \\left<\\tau_0\\right>, \\left<\\tau_0^2\\right>, \\left<\\tau_2\\tau_0\\right> \\right]$\n",
    "4. $\\mathbb{Q}\\left[  \\left<\\tau_0\\right>, \\left<\\tau_0^2\\right>, \\left<\\tau_4\\right> \\right]$\n",
    "5. $\\mathbb{Q}\\left[  \\left<\\tau_0\\right>, \\left<\\tau_2\\right>, \\left<\\tau_0^3\\right> \\right]$\n",
    "6. $\\mathbb{Q}\\left[  \\left<\\tau_0\\right>, \\left<\\tau_2\\right>, \\left<\\tau_1^2\\right> \\right]$\n",
    "7. $\\mathbb{Q}\\left[  \\left<\\tau_0\\right>, \\left<\\tau_2\\right>, \\left<\\tau_2\\tau_0\\right> \\right]$\n",
    "8. $\\mathbb{Q}\\left[  \\left<\\tau_0\\right>, \\left<\\tau_2\\right>, \\left<\\tau_4\\right> \\right]$"
   ]
  },
  {
   "cell_type": "code",
   "execution_count": 10,
   "id": "ca25e999",
   "metadata": {},
   "outputs": [],
   "source": [
    "class Descendent_Basis:\n",
    "    ### The descendent basis class of weight $k$. ###\n",
    "    \n",
    "    def __init__(self, weight = 2, typ = 1):\n",
    "        self.weight = weight\n",
    "        self.type = typ\n",
    "        self.dimension = len(Partitions((self.weight/2).floor(), max_part=3))\n",
    "        \n",
    "        \n",
    "    def __repr__(self):\n",
    "        return f\"The descendent basis in weight {self.weight} and type {self.type}\"\n",
    "    \n",
    "    \n",
    "    def display(self):\n",
    "        \n",
    "        types = {}\n",
    "        \n",
    "        types[1] = [[0], [0, 0], [0, 0, 0]]\n",
    "        types[2] = [[0], [0, 0], [1, 1]]\n",
    "        types[3] = [[0], [0, 0], [2, 0]]\n",
    "        types[4] = [[0], [0, 0], [4]]\n",
    "        types[5] = [[0], [2], [0, 0, 0]]\n",
    "        types[6] = [[0], [2], [1, 1]]\n",
    "        types[7] = [[0], [2], [2, 0]]\n",
    "        types[8] = [[0], [2], [4]]\n",
    "            \n",
    "        basis = {}\n",
    "            \n",
    "        for i in Partitions((self.weight/2).floor(), max_part=3):\n",
    "            basis_key = []\n",
    "            for j in i:\n",
    "                basis_key.append(tuple(types[self.type][j - 1]))\n",
    "            basis_key = tuple(basis_key)\n",
    "            basis_vector = 1\n",
    "            for j in i:\n",
    "                basis_vector *= Stationary_Descendent(types[self.type][j - 1]).expand(self.dimension - 1)\n",
    "            basis[basis_key] = truncate(basis_vector, self.dimension - 1)\n",
    "        \n",
    "        return basis\n",
    "    \n",
    "    \n",
    "    def to_matrix(self):\n",
    "        # Returns the square matrix a_{ij} = ith coefficient of the jth basis vector #\n",
    "        m = []\n",
    "        for basis_vector in self.display():\n",
    "            m.append([i for i in self.display()[basis_vector]])\n",
    "        return Matrix(m).transpose()\n",
    "    \n",
    "    \n",
    "    def expand(self, coef = [-1/24]):\n",
    "        ### Takes a list a_1, \\ldots, a_d of d rational numbers, where d is the dimension of QM_k          ###\n",
    "        ### and returns the quasimodular form, in the                                                      ###\n",
    "        ### descendent basis, whose first d coefficients are a_1, \\ldots, a_d                              ###\n",
    "        \n",
    "        expansion = {}\n",
    "        \n",
    "        if len(coef) != Eisenstein_Basis(self.weight).dimension:\n",
    "            return False\n",
    "        \n",
    "        M = self.to_matrix()\n",
    "        X = M.solve_right(vector(coef))\n",
    "        \n",
    "        counter = 0\n",
    "        for basis_vector in self.display():\n",
    "            expansion[basis_vector] = X[counter]\n",
    "            counter += 1\n",
    "        \n",
    "        return expansion"
   ]
  },
  {
   "cell_type": "markdown",
   "id": "00873ebc",
   "metadata": {},
   "source": [
    "Suppose you wanted to see the descendent basis of weight 12 of type 2. You can use the .display() method."
   ]
  },
  {
   "cell_type": "code",
   "execution_count": 11,
   "id": "24215f10",
   "metadata": {},
   "outputs": [
    {
     "data": {
      "text/plain": [
       "The descendent basis in weight 12 and type 2"
      ]
     },
     "execution_count": 11,
     "metadata": {},
     "output_type": "execute_result"
    }
   ],
   "source": [
    "basis = Descendent_Basis(weight = 12, typ = 2); basis"
   ]
  },
  {
   "cell_type": "markdown",
   "id": "25b006c5",
   "metadata": {},
   "source": [
    "Now suppose you want to express the discriminant modular form $\\Delta = q\\prod_{n \\geq 1}(1 - q^n)^{24}$ in the above descendent basis. We can use the .expand() method. This method requires that you provide a list of rational numbers $[a_1, \\ldots, a_{d}]$, where $d$ is the dimension of $\\text{QM}_k$. The method returns the quasimodular form, expanded in the descendent basis, whose first $d$ coefficients are $a_1, \\ldots, a_d$.\n",
    "\n",
    "Since $\\text{QM}_{12}$ has dimension 7, we need the first 7 coefficients of $\\Delta$, which happen to be $[0, 1, -24, 252, -1472, 4830, -6048]$."
   ]
  },
  {
   "cell_type": "code",
   "execution_count": 12,
   "id": "5926d6bb",
   "metadata": {},
   "outputs": [
    {
     "data": {
      "text/plain": [
       "{((1, 1), (1, 1)): -97200,\n",
       " ((1, 1), (0, 0), (0,)): 155520,\n",
       " ((1, 1), (0,), (0,), (0,)): -362880,\n",
       " ((0, 0), (0, 0), (0, 0)): 13824,\n",
       " ((0, 0), (0, 0), (0,), (0,)): -20736,\n",
       " ((0, 0), (0,), (0,), (0,), (0,)): 331776,\n",
       " ((0,), (0,), (0,), (0,), (0,), (0,)): -324864}"
      ]
     },
     "execution_count": 12,
     "metadata": {},
     "output_type": "execute_result"
    }
   ],
   "source": [
    "basis.expand([0, 1, -24, 252, -1472, 4830, -6048])"
   ]
  },
  {
   "cell_type": "markdown",
   "id": "cded38cf",
   "metadata": {},
   "source": [
    "The above output means \n",
    "\n",
    "\\begin{equation*}\n",
    "\\Delta = -97200\\left<\\tau_1^2\\right>^2 + 155520\\left<\\tau_1^2\\right>\\left<\\tau_0^2\\right>\\left<\\tau_0\\right> - 362880\\left<\\tau_1^2\\right>\\left<\\tau_0\\right>^3 + 13824\\left<\\tau_0^2\\right>^3 -20736\\left<\\tau_0^2\\right>^2\\left<\\tau_0\\right>^2 + 331776\\left<\\tau_0^2\\right>\\left<\\tau_0\\right>^4 - 324864\\left<\\tau_0\\right>^6\n",
    "\\end{equation*}"
   ]
  },
  {
   "cell_type": "markdown",
   "id": "26a594fb",
   "metadata": {},
   "source": [
    "# The Descendent_Matroid() Class\n",
    "\n",
    "Now we'll make the Descendent_Matroid() class below."
   ]
  },
  {
   "cell_type": "code",
   "execution_count": 13,
   "id": "8b65624e",
   "metadata": {},
   "outputs": [],
   "source": [
    "class Descendent_Matroid:\n",
    "    \n",
    "    def __init__(self, weight = 2):\n",
    "        self.weight = weight\n",
    "        \n",
    "    def __repr__(self):\n",
    "        return f\"The descendent matroid class of weight {self.weight}\"\n",
    "    \n",
    "    def groundset(self, positive = False, nonpositive = False):\n",
    "        # Returns the ground set of the descendent matroid of weight k #\n",
    "        \n",
    "        s = [] #Create the list that eventually holds the ground set\n",
    "        \n",
    "        #One pointed invariants --> partitions of weight-2 with at most 1 part\n",
    "        #Two pointed invariants --> partitions of weight-4 with at most 2 parts\n",
    "        #...\n",
    "        #(weight/2) pointed invariants --> partitions of 0 with at most weight/2 parts\n",
    "        \n",
    "        if positive == False and nonpositive == False:\n",
    "            for i in range(1, (self.weight/2).floor() + 1): #loop through \"with at most __ parts\"\n",
    "                for p in Partitions(self.weight - 2*i, max_length = i).list():\n",
    "                    l = list(p)\n",
    "                    if len(p) != i: #Throw in zeroes so that the descendent has exactly the right amount of points\n",
    "                        for j in range(1, i - len(p) + 1):\n",
    "                            l.append(0)\n",
    "                        s.append(l)\n",
    "                    else:\n",
    "                        s.append(l)\n",
    "            return s\n",
    "        \n",
    "        if positive == True and nonpositive == False:\n",
    "            for desc in self.groundset():\n",
    "                if all([v > 0 for v in desc]):\n",
    "                    s.append(desc)\n",
    "            return s\n",
    "        \n",
    "        if nonpositive == True and positive == False:\n",
    "            for desc in self.groundset():\n",
    "                if all([v > 0 for v in desc]) == False:\n",
    "                    s.append(desc)\n",
    "            return s\n",
    "    \n",
    "    \n",
    "    def matrix_repr(self, positive = False, nonpositive = False):\n",
    "        # Returns the matrix A, whose columns correspond to the groundset, and  #\n",
    "        # each column represents the descendent written in the Eisenstein basis # \n",
    "        # By default\n",
    "        \n",
    "        m = []\n",
    "        \n",
    "        if positive == False and nonpositive == False:\n",
    "            for desc in self.groundset():\n",
    "                column = []\n",
    "                f = Stationary_Descendent(desc).to_eisenstein_basis()\n",
    "                for basis_vector in f:\n",
    "                    column.append(f[basis_vector])\n",
    "                m.append(column)\n",
    "        \n",
    "            M = Matrix(m).transpose()\n",
    "        \n",
    "            return M\n",
    "        \n",
    "        if positive == True and nonpositive == False:\n",
    "            for desc in self.groundset(positive = True):\n",
    "                column = []\n",
    "                f = Stationary_Descendent(desc).to_eisenstein_basis()\n",
    "                for basis_vector in f:\n",
    "                    column.append(f[basis_vector])\n",
    "                m.append(column)\n",
    "        \n",
    "            M = Matrix(m).transpose()\n",
    "        \n",
    "            return M\n",
    "        \n",
    "        if nonpositive == True and positive == False:\n",
    "            for desc in self.groundset(nonpositive = True):\n",
    "                column = []\n",
    "                f = Stationary_Descendent(desc).to_eisenstein_basis()\n",
    "                for basis_vector in f:\n",
    "                    column.append(f[basis_vector])\n",
    "                m.append(column)\n",
    "        \n",
    "            M = Matrix(m).transpose()\n",
    "        \n",
    "            return M\n",
    "        \n",
    "        \n",
    "    \n",
    "    def matroid_repr(self, positive = False, nonpositive = False):\n",
    "        # Returns the matroid class ##\n",
    "        \n",
    "        if positive == False and nonpositive == False:\n",
    "            mat = Matroid(self.matrix_repr())\n",
    "            return mat\n",
    "        \n",
    "        if positive == True and nonpositive == False:\n",
    "            mat = Matroid(self.matrix_repr(positive = True))\n",
    "            return mat\n",
    "        \n",
    "        if nonpositive == True and positive == False:\n",
    "            mat = Matroid(self.matrix_repr(nonpositive = True))\n",
    "            return mat\n",
    "    \n",
    "    def bases(self, positive = False, nonpositive = False):\n",
    "        # Returns the bases of the descendent matroid #\n",
    "        set_of_bases = []\n",
    "        \n",
    "        if positive == False and nonpositive == False:\n",
    "            for b in self.matroid_repr().bases():\n",
    "                basis = []\n",
    "                for index in b:\n",
    "                    basis.append(self.groundset()[index])\n",
    "                set_of_bases.append(basis)\n",
    "            return iter(set_of_bases)\n",
    "        \n",
    "        if positive == True and nonpositive == False:\n",
    "            for b in self.matroid_repr(positive = True).bases():\n",
    "                basis = []\n",
    "                for index in b:\n",
    "                    basis.append(self.groundset(positive = True)[index])\n",
    "                set_of_bases.append(basis)\n",
    "            return iter(set_of_bases)\n",
    "        \n",
    "        if nonpositive == True and positive == False:\n",
    "            for b in self.matroid_repr(nonpositive = True).bases():\n",
    "                basis = []\n",
    "                for index in b:\n",
    "                    basis.append(self.groundset(nonpositive = True)[index])\n",
    "                set_of_bases.append(basis)\n",
    "            return iter(set_of_bases)"
   ]
  },
  {
   "cell_type": "markdown",
   "id": "0fb13413",
   "metadata": {},
   "source": [
    "We can use the Descendent_Matroid() class to make computations with the descendent matroid $\\mathcal{M}_k$.\n",
    "First, let's instantiate $\\mathcal{M}_k$ for $k = 2, 4, 6, 8, 10, 12$:"
   ]
  },
  {
   "cell_type": "code",
   "execution_count": 14,
   "id": "39f808a7",
   "metadata": {},
   "outputs": [],
   "source": [
    "m2 = Descendent_Matroid(2)\n",
    "m4 = Descendent_Matroid(4)\n",
    "m6 = Descendent_Matroid(6)\n",
    "m8 = Descendent_Matroid(8)\n",
    "m10 = Descendent_Matroid(10)\n",
    "m12 = Descendent_Matroid(12)"
   ]
  },
  {
   "cell_type": "markdown",
   "id": "fda19a50",
   "metadata": {},
   "source": [
    "Let's compute the matrix representation of $\\mathcal{M}_k$ for $k = 2, 4, 6, 8$:"
   ]
  },
  {
   "cell_type": "code",
   "execution_count": 15,
   "id": "1e6e9e0e",
   "metadata": {},
   "outputs": [
    {
     "name": "stdout",
     "output_type": "stream",
     "text": [
      "[1]\n",
      "\n",
      "[1/12  5/6]\n",
      "[ 1/2   -1]\n",
      "\n",
      "[1/360 7/120 7/180  7/12]\n",
      "[ 1/12   1/4   2/3 -15/2]\n",
      "[  1/6  -3/2  -8/3     3]\n",
      "\n",
      "[  1/360    1/36  13/180    1/12   -7/15   7/180   -35/3]\n",
      "[19/2016 115/504   25/63  73/112   85/24    25/9  325/12]\n",
      "[   1/24    -1/3    -2/3    -3/4      -6   -38/3      75]\n",
      "[   1/24    -5/6    -8/3   -15/4    15/2    40/3     -15]\n"
     ]
    }
   ],
   "source": [
    "print(m2.matrix_repr())\n",
    "print(\"\")\n",
    "print(m4.matrix_repr())\n",
    "print(\"\")\n",
    "print(m6.matrix_repr())\n",
    "print(\"\")\n",
    "print(m8.matrix_repr())"
   ]
  },
  {
   "cell_type": "markdown",
   "id": "a7785fa5",
   "metadata": {},
   "source": [
    "If you want to know which column corresponds to which stationary descendent, you can use the .groundset() method:"
   ]
  },
  {
   "cell_type": "code",
   "execution_count": 16,
   "id": "c2b650f9",
   "metadata": {},
   "outputs": [
    {
     "data": {
      "text/plain": [
       "[[6], [4, 0], [3, 1], [2, 2], [2, 0, 0], [1, 1, 0], [0, 0, 0, 0]]"
      ]
     },
     "execution_count": 16,
     "metadata": {},
     "output_type": "execute_result"
    }
   ],
   "source": [
    "m8.groundset()"
   ]
  },
  {
   "cell_type": "markdown",
   "id": "65097ac1",
   "metadata": {},
   "source": [
    "The above output means that, when you look at the $(4 \\times 7)$ matrix corresponding to $\\mathcal{M}_8$, the first column corresponds to $\\left<\\tau_6\\right>$, the second column corresponds to $\\left<\\tau_4\\tau_0\\right>$, etc."
   ]
  },
  {
   "cell_type": "markdown",
   "id": "c9b35cc3",
   "metadata": {},
   "source": [
    "The method .matroid_repr() allows us to access $\\mathcal{M}_k$ using Sage's Matroids library:"
   ]
  },
  {
   "cell_type": "code",
   "execution_count": 17,
   "id": "cc3dfdd4",
   "metadata": {},
   "outputs": [
    {
     "data": {
      "text/plain": [
       "Linear matroid of rank 4 on 7 elements represented over the Rational Field"
      ]
     },
     "execution_count": 17,
     "metadata": {},
     "output_type": "execute_result"
    }
   ],
   "source": [
    "mat8 = m8.matroid_repr(); mat8"
   ]
  },
  {
   "cell_type": "markdown",
   "id": "5e3ace6d",
   "metadata": {},
   "source": [
    "The Sage library for the Matroids class has many build in methods."
   ]
  },
  {
   "cell_type": "code",
   "execution_count": 18,
   "id": "78990989",
   "metadata": {},
   "outputs": [
    {
     "data": {
      "text/plain": [
       "34"
      ]
     },
     "execution_count": 18,
     "metadata": {},
     "output_type": "execute_result"
    }
   ],
   "source": [
    "mat8.bases_count()"
   ]
  },
  {
   "cell_type": "code",
   "execution_count": 19,
   "id": "7cf8da12",
   "metadata": {},
   "outputs": [
    {
     "data": {
      "text/plain": [
       "x^4 + 3*x^3 + y^3 + 6*x^2 + x*y + 4*y^2 + 9*x + 9*y"
      ]
     },
     "execution_count": 19,
     "metadata": {},
     "output_type": "execute_result"
    }
   ],
   "source": [
    "mat8.tutte_polynomial()"
   ]
  },
  {
   "cell_type": "markdown",
   "id": "6c606168",
   "metadata": {},
   "source": [
    "We can also access the restricted matroid $\\mathcal{M}_k | S^k$ by setting the `positive' parameter in either the .matrix_repr() method or the .matroid_repr() method to True."
   ]
  },
  {
   "cell_type": "code",
   "execution_count": 20,
   "id": "b1a04f1b",
   "metadata": {},
   "outputs": [
    {
     "data": {
      "text/plain": [
       "[  293/37065600       35/28512      133/38016    1421/237600        23/3168       301/4320       539/4320       539/2880     7399/10800]\n",
       "[      23/47520      703/23760     1207/15840      1063/7920          16/99       -379/720       -859/720         -37/16       -1043/45]\n",
       "[        1/2160        -11/216        -19/144        -83/360          -5/18         -61/24        -283/72          -41/8         812/45]\n",
       "[10181/10378368       475/3564     4729/12672      1775/2772      7405/9504        725/108         325/28       7591/448        1750/27]\n",
       "[       19/4032         -11/63         -29/64         -17/21         -47/48            -27        -907/21     -12241/224         -796/3]\n",
       "[         1/288           -7/9        -203/96          -11/3          -35/8           85/3          121/3         765/16         2368/3]\n",
       "[         1/720           -4/9         -21/16          -12/5         -35/12          140/3             84          945/8        -2240/3]"
      ]
     },
     "execution_count": 20,
     "metadata": {},
     "output_type": "execute_result"
    }
   ],
   "source": [
    "m12.matrix_repr(positive = True)"
   ]
  },
  {
   "cell_type": "code",
   "execution_count": 21,
   "id": "1b4766ec",
   "metadata": {},
   "outputs": [
    {
     "data": {
      "text/plain": [
       "Linear matroid of rank 7 on 9 elements represented over the Rational Field"
      ]
     },
     "execution_count": 21,
     "metadata": {},
     "output_type": "execute_result"
    }
   ],
   "source": [
    "mat12 = m12.matroid_repr(positive = True); mat12"
   ]
  },
  {
   "cell_type": "code",
   "execution_count": 22,
   "id": "f63a4f5d",
   "metadata": {},
   "outputs": [
    {
     "data": {
      "text/plain": [
       "True"
      ]
     },
     "execution_count": 22,
     "metadata": {},
     "output_type": "execute_result"
    }
   ],
   "source": [
    "mat12.bases_count() == binomial(9, 7)"
   ]
  }
 ],
 "metadata": {
  "kernelspec": {
   "display_name": "SageMath 9.8",
   "language": "sage",
   "name": "sagemath-9.8"
  },
  "language_info": {
   "codemirror_mode": {
    "name": "ipython",
    "version": 3
   },
   "file_extension": ".py",
   "mimetype": "text/x-python",
   "name": "python",
   "nbconvert_exporter": "python",
   "pygments_lexer": "ipython3",
   "version": "3.11.1"
  }
 },
 "nbformat": 4,
 "nbformat_minor": 5
}
